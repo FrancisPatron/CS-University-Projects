{
 "cells": [
  {
   "cell_type": "markdown",
   "metadata": {},
   "source": [
    "## CIIC5018 / ICOM5018\n",
    "## Network Security and Cryptography\n",
    "## Project 5: AES Implementation\n",
    "### Francis Jose Patron Fidalgo (802180833)\n",
    "### sec: 060\n",
    "### oct/16/2022"
   ]
  },
  {
   "cell_type": "markdown",
   "metadata": {},
   "source": [
    "## Addition of two numbers"
   ]
  },
  {
   "cell_type": "code",
   "execution_count": 280,
   "metadata": {},
   "outputs": [],
   "source": [
    "def add(a: int, b: int) -> int:\n",
    "    return a ^ b "
   ]
  },
  {
   "cell_type": "markdown",
   "metadata": {},
   "source": [
    "## mult of two numbers"
   ]
  },
  {
   "cell_type": "code",
   "execution_count": 281,
   "metadata": {},
   "outputs": [],
   "source": [
    "def mult(a: int, b: int) -> int:\n",
    "    modulo = 0b100011011    # x^8+x^4+x^3+x+1       \n",
    "    prod= 0\n",
    "    for i in range(8):\n",
    "        prod = prod << 1 \n",
    "        if prod & 0b100000000:\n",
    "            prod = prod ^ modulo\n",
    "        if b & 0b010000000:\n",
    "            prod = prod ^ a\n",
    "        b = b << 1\n",
    "    return prod"
   ]
  },
  {
   "cell_type": "markdown",
   "metadata": {},
   "source": [
    "## Inverse of a number"
   ]
  },
  {
   "cell_type": "code",
   "execution_count": 282,
   "metadata": {},
   "outputs": [],
   "source": [
    "def inverse(x: int) -> int: # x^254 = 1/x\n",
    "    p=mult(x,x)   # p = x^2\n",
    "    x=mult(p,p)   # x = x^4\n",
    "    p=mult(p,x)   # p = x^(2+4)\n",
    "    x=mult(x,x)   # x = x^8\n",
    "    p=mult(p,x)   # p = x^(2+4+8)\n",
    "    x=mult(x,x)   # x = x^16\n",
    "    p=mult(p,x)   # p = x^(2+4+8+16)\n",
    "    x=mult(x,x)   # x = x^32\n",
    "    p=mult(p,x)   # p = x^(2+4+8+16+32)\n",
    "    x=mult(x,x)   # x = x^64\n",
    "    p=mult(p,x)   # p = x^(2+4+8+16+32+64)\n",
    "    x=mult(x,x)   # x = x^128\n",
    "    p=mult(p,x)   # p = x^(2+4+8+16+32+64+128)\n",
    "    return p"
   ]
  },
  {
   "cell_type": "markdown",
   "metadata": {},
   "source": [
    "## Generation of S-Box and InvS-Box"
   ]
  },
  {
   "cell_type": "code",
   "execution_count": 283,
   "metadata": {},
   "outputs": [],
   "source": [
    "def transform_sbox(byte: hex) -> str:\n",
    "    c = 0x63\n",
    "    new_num = 0x00\n",
    "    for i in range(8):\n",
    "        new_num = new_num | (((byte >> i) & 0x01) \n",
    "            ^ ((byte >> ((i + 4) % 8 )) & 0x01) \n",
    "            ^ ((byte >> ((i + 5) % 8 )) & 0x01) \n",
    "            ^ ((byte >> ((i + 6) % 8 )) & 0x01)\n",
    "            ^ ((byte >> ((i + 7) % 8 )) & 0x01)\n",
    "            ^ ((c >> i) & 0x01)) << i\n",
    "    return new_num"
   ]
  },
  {
   "cell_type": "code",
   "execution_count": 284,
   "metadata": {},
   "outputs": [],
   "source": [
    "def transform_isbox(byte: hex) -> str:\n",
    "    c = 0x05\n",
    "    new_num = 0x00\n",
    "    for i in range(8):\n",
    "        new_num = new_num | (((byte >> ((i + 2) % 8 )) & 0x01) \n",
    "            ^ ((byte >> ((i + 5) % 8 )) & 0x01) \n",
    "            ^ ((byte >> ((i + 7) % 8 )) & 0x01)\n",
    "            ^ ((c >> i) & 0x01)) << i\n",
    "    return new_num"
   ]
  },
  {
   "cell_type": "code",
   "execution_count": 285,
   "metadata": {},
   "outputs": [],
   "source": [
    "def get_sbox():\n",
    "    sbox = []\n",
    "    # Initialize the S-box with the byte values in ascending sequence row by row\n",
    "    for i in range(16):\n",
    "        row = []\n",
    "        for j in range(16):\n",
    "            row.append(int(hex(i)+hex(j)[2:], 16))\n",
    "        sbox.append(row)\n",
    "    # Map each byte in the S-box to its multiplicative inverse in the finite field\n",
    "    # GF(^8); the value {00} is mapped to itself.\n",
    "    for row in sbox:\n",
    "        for i in range(len(row)):\n",
    "            row[i] = inverse(row[i])\n",
    "            # Apply the transformation to each bit of each byte in the S-box\n",
    "            row[i] = '{:02x}'.format(transform_sbox(row[i]))\n",
    "    return sbox"
   ]
  },
  {
   "cell_type": "code",
   "execution_count": 286,
   "metadata": {},
   "outputs": [],
   "source": [
    "def get_isbox():\n",
    "    sbox = []\n",
    "    # Initialize the S-box with the byte values in ascending sequence row by row\n",
    "    for i in range(16):\n",
    "        row = []\n",
    "        for j in range(16):\n",
    "            row.append(int(hex(i)+hex(j)[2:], 16))\n",
    "        sbox.append(row)\n",
    "    for row in sbox:\n",
    "        for i in range(len(row)):\n",
    "            # Apply the transformation to each bit of each byte in the iS-box\n",
    "            row[i] = transform_isbox(row[i])\n",
    "            # Map each byte in the S-box to its multiplicative inverse in the finite field\n",
    "            # GF(^8); the value {00} is mapped to itself.\n",
    "            row[i] = '{:02x}'.format(inverse(row[i]))\n",
    "    return sbox"
   ]
  },
  {
   "cell_type": "code",
   "execution_count": 287,
   "metadata": {},
   "outputs": [],
   "source": [
    "SBOX = get_sbox()\n",
    "ISBOX = get_isbox()"
   ]
  },
  {
   "cell_type": "markdown",
   "metadata": {},
   "source": [
    "# I. function to convert a sequence of 16 bytes to a 4x4 square"
   ]
  },
  {
   "cell_type": "code",
   "execution_count": 288,
   "metadata": {},
   "outputs": [],
   "source": [
    "def gen4x4Square(bytes):\n",
    "    # take in 16 bytes, return 4x4 matrix\n",
    "    # support for string keys\n",
    "    if type(bytes) is str:\n",
    "        bytes = [bytes[i:i+2] for i in range(0, len(bytes), 2)]\n",
    "    return [[b for b in bytes[i*4:i*4+4]] for i in range(4)]"
   ]
  },
  {
   "cell_type": "markdown",
   "metadata": {},
   "source": [
    "# II. function to convert a 4x4 square to a sequence of 16 bytes"
   ]
  },
  {
   "cell_type": "code",
   "execution_count": 289,
   "metadata": {},
   "outputs": [],
   "source": [
    "def gen16Bytes(matrix):\n",
    "    bytes = []\n",
    "    [[bytes.append(matrix[row][col]) for col in range(4)] for row in range(4)]\n",
    "    return ''.join(bytes)"
   ]
  },
  {
   "cell_type": "markdown",
   "metadata": {},
   "source": [
    "# III. A function to print the current state"
   ]
  },
  {
   "cell_type": "code",
   "execution_count": 290,
   "metadata": {},
   "outputs": [],
   "source": [
    "def print_state(state, round=None, rkey=None, exp_keys=None):\n",
    "    print('-'*35)\n",
    "    if not round is None:\n",
    "        print(f'{round}')\n",
    "        print('-'*35)\n",
    "    key = [['']*4]*4\n",
    "    kname = ''\n",
    "    if not rkey is None:\n",
    "        key = exp_keys[rkey:rkey+4]\n",
    "        kname = 'round key:'\n",
    "    print(f'state:                 {kname}')\n",
    "    for i in range(4):\n",
    "        print(f'{state[0][i]} {state[1][i]} {state[2][i]} {state[3][i]}            {key[0][i]} {key[1][i]} {key[2][i]} {key[3][i]}')\n",
    "    print('')"
   ]
  },
  {
   "cell_type": "markdown",
   "metadata": {},
   "source": [
    "# IV. SubByte"
   ]
  },
  {
   "cell_type": "code",
   "execution_count": 291,
   "metadata": {},
   "outputs": [],
   "source": [
    "def sub_byte(state):\n",
    "    new_state = [[],[],[],[]]\n",
    "    for row in range(4):\n",
    "        for col, byte in enumerate(state[row]):\n",
    "            byte = '{:02x}'.format(int(byte, 16))\n",
    "            new_state[row].append(SBOX[int(byte[0], 16)][int(byte[1], 16)])\n",
    "    return new_state"
   ]
  },
  {
   "cell_type": "markdown",
   "metadata": {},
   "source": [
    "# V. InvSubByte"
   ]
  },
  {
   "cell_type": "code",
   "execution_count": 292,
   "metadata": {},
   "outputs": [],
   "source": [
    "def inv_sub_byte(state):\n",
    "    new_state = [[],[],[],[]]\n",
    "    for row in range(4):\n",
    "        for col, byte in enumerate(state[row]):\n",
    "            byte = '{:02x}'.format(int(byte, 16))\n",
    "            new_state[row].append(ISBOX[int(byte[0], 16)][int(byte[1], 16)])\n",
    "    return new_state"
   ]
  },
  {
   "cell_type": "markdown",
   "metadata": {},
   "source": [
    "# VI. ShiftRows"
   ]
  },
  {
   "cell_type": "code",
   "execution_count": 293,
   "metadata": {},
   "outputs": [],
   "source": [
    "def shift_row(state):\n",
    "    rows = []\n",
    "    # switch to list of columns\n",
    "    for i in range(4):\n",
    "        rows.append([int(col[i], 16) for col in state])\n",
    "    new_state = rows\n",
    "    # left shift second row by 1\n",
    "    new_state[1].append(new_state[1].pop(0))\n",
    "    # left shift third row by 2\n",
    "    new_state[2].append(new_state[2].pop(0))\n",
    "    new_state[2].append(new_state[2].pop(0))\n",
    "    # left shift third row by 3\n",
    "    new_state[3].append(new_state[3].pop(0))\n",
    "    new_state[3].append(new_state[3].pop(0))\n",
    "    new_state[3].append(new_state[3].pop(0))\n",
    "    # switch back\n",
    "    return [['{:02x}'.format(row[i]) for row in new_state] for i in range(4)]"
   ]
  },
  {
   "cell_type": "markdown",
   "metadata": {},
   "source": [
    "# VII. InvShiftRows"
   ]
  },
  {
   "cell_type": "code",
   "execution_count": 294,
   "metadata": {},
   "outputs": [],
   "source": [
    "def inv_shift_row(state):\n",
    "    rows = []\n",
    "    # switch to list of columns\n",
    "    for i in range(4):\n",
    "        rows.append([int(col[i], 16) for col in state])\n",
    "    new_state = rows\n",
    "    # left shift second row by 1\n",
    "    new_state[1].insert(0, new_state[1].pop())\n",
    "    # left shift third row by 2\n",
    "    new_state[2].insert(0, new_state[2].pop())\n",
    "    new_state[2].insert(0, new_state[2].pop())\n",
    "    # left shift third row by 3\n",
    "    new_state[3].insert(0, new_state[3].pop())\n",
    "    new_state[3].insert(0, new_state[3].pop())\n",
    "    new_state[3].insert(0, new_state[3].pop())\n",
    "    # switch back\n",
    "    return [['{:02x}'.format(row[i]) for row in new_state] for i in range(4)]"
   ]
  },
  {
   "cell_type": "markdown",
   "metadata": {},
   "source": [
    "# VIII. MixColumns"
   ]
  },
  {
   "cell_type": "code",
   "execution_count": 295,
   "metadata": {},
   "outputs": [],
   "source": [
    "def mix(col):\n",
    "    # col = [a, b, c, d]\n",
    "    new_col = col.copy()\n",
    "    new_col[0] = '{:02x}'.format(mult(2, col[0]) ^ mult(3, col[1]) ^ mult(1, col[2]) ^ mult(1, col[3]))\n",
    "    new_col[1] = '{:02x}'.format(mult(1, col[0]) ^ mult(2, col[1]) ^ mult(3, col[2]) ^ mult(1, col[3]))\n",
    "    new_col[2] = '{:02x}'.format(mult(1, col[0]) ^ mult(1, col[1]) ^ mult(2, col[2]) ^ mult(3, col[3]))\n",
    "    new_col[3] = '{:02x}'.format(mult(3, col[0]) ^ mult(1, col[1]) ^ mult(1, col[2]) ^ mult(2, col[3]))\n",
    "    return new_col\n",
    "def imix(col):\n",
    "    # col = [a, b, c, d]\n",
    "    new_col = col.copy()\n",
    "    new_col[0] = '{:02x}'.format(mult(0x0E, col[0]) ^ mult(0x0B, col[1]) ^ mult(0x0D, col[2]) ^ mult(0x09, col[3]))\n",
    "    new_col[1] = '{:02x}'.format(mult(0x09, col[0]) ^ mult(0x0E, col[1]) ^ mult(0x0B, col[2]) ^ mult(0x0D, col[3]))\n",
    "    new_col[2] = '{:02x}'.format(mult(0x0D, col[0]) ^ mult(0x09, col[1]) ^ mult(0x0E, col[2]) ^ mult(0x0B, col[3]))\n",
    "    new_col[3] = '{:02x}'.format(mult(0x0B, col[0]) ^ mult(0x0D, col[1]) ^ mult(0x09, col[2]) ^ mult(0x0E, col[3]))\n",
    "    return new_col"
   ]
  },
  {
   "cell_type": "code",
   "execution_count": 296,
   "metadata": {},
   "outputs": [],
   "source": [
    "def mix_columns(state):\n",
    "    new_state = [[int(j, 16) for j in i] for i in state]\n",
    "    for i, col in enumerate(new_state):\n",
    "        new_state[i] = mix(col)\n",
    "    return new_state"
   ]
  },
  {
   "cell_type": "markdown",
   "metadata": {},
   "source": [
    "# IX. InvMicColumns"
   ]
  },
  {
   "cell_type": "code",
   "execution_count": 297,
   "metadata": {},
   "outputs": [],
   "source": [
    "def inv_mix_columns(state):\n",
    "    new_state = [[int(j, 16) for j in i] for i in state]\n",
    "    for i, col in enumerate(new_state):\n",
    "        new_state[i] = imix(col)\n",
    "    return new_state"
   ]
  },
  {
   "cell_type": "markdown",
   "metadata": {},
   "source": [
    "# X. AddRoundKey"
   ]
  },
  {
   "cell_type": "code",
   "execution_count": 298,
   "metadata": {},
   "outputs": [],
   "source": [
    "def add_round_key(state, round_key):\n",
    "    new_state = state.copy()\n",
    "    for row in range(4):\n",
    "        for col in range(4):\n",
    "            new_state[row][col] = '{:02x}'.format(int(state[row][col], 16) ^ int(round_key[row][col], 16))\n",
    "    return new_state"
   ]
  },
  {
   "cell_type": "markdown",
   "metadata": {},
   "source": [
    "# XI. AES key expansion"
   ]
  },
  {
   "cell_type": "code",
   "execution_count": 299,
   "metadata": {},
   "outputs": [],
   "source": [
    "get_rcon = [['00', '00', '00', '00'], \n",
    "            ['01', '00', '00', '00'], \n",
    "            ['02', '00', '00', '00'], \n",
    "            ['04', '00', '00', '00'], \n",
    "            ['08', '00', '00', '00'], \n",
    "            ['10', '00', '00', '00'], \n",
    "            ['20', '00', '00', '00'], \n",
    "            ['40', '00', '00', '00'], \n",
    "            ['80', '00', '00', '00'],\n",
    "            ['1b', '00', '00', '00'],\n",
    "            ['36', '00', '00', '00'],]"
   ]
  },
  {
   "cell_type": "code",
   "execution_count": 300,
   "metadata": {},
   "outputs": [],
   "source": [
    "def rot_word(w):\n",
    "    # performs a one-byte circular left shift on a word. This means that an\n",
    "    # input word [B 0, B 1, B 2, B 3] is transformed into [B 1, B 2, B 3, B 0\n",
    "    new_w = w.copy()\n",
    "    new_w.append(new_w.pop(0))\n",
    "    return new_w"
   ]
  },
  {
   "cell_type": "code",
   "execution_count": 301,
   "metadata": {},
   "outputs": [],
   "source": [
    "def sub_word(w):\n",
    "    # performs a byte substitution on each byte of its input word, using the S-box\n",
    "    new_w = []\n",
    "    for b in w:\n",
    "        new_w.append(SBOX[int(b[0], 16)][int(b[1], 16)])\n",
    "    return new_w"
   ]
  },
  {
   "cell_type": "code",
   "execution_count": 302,
   "metadata": {},
   "outputs": [],
   "source": [
    "def word_xor(w1, w2):\n",
    "\tnew_w = []\n",
    "\tfor i in range(4):\n",
    "\t\tnew_w.append('{:02x}'.format(int(w1[i], 16) ^ int(w2[i], 16)))\n",
    "\treturn new_w"
   ]
  },
  {
   "cell_type": "code",
   "execution_count": 303,
   "metadata": {},
   "outputs": [],
   "source": [
    "def key_expansion(key):\n",
    "\t# support for string keys\n",
    "\tif type(key) is str:\n",
    "\t\tkey = [key[i:i+2] for i in range(0, len(key), 2)]\n",
    "\tw = [[]]*44\n",
    "\tfor i in range(4):\n",
    "\t\tw[i] = [key[4*i], key[4*i+1], key[4*i+2], key[4*i+3]]\n",
    "\tfor i in range(4, 44):\n",
    "\t\ttmp = w[i-1]\n",
    "\t\tif i % 4 == 0:\n",
    "\t\t\ttmp = word_xor(sub_word(rot_word(tmp)), get_rcon[int(i/4)]) \n",
    "\t\tw[i] = word_xor(w[i-4], tmp)\t\t\n",
    "\treturn w"
   ]
  },
  {
   "cell_type": "markdown",
   "metadata": {},
   "source": [
    "# XII. AES encryption & decryption"
   ]
  },
  {
   "cell_type": "code",
   "execution_count": 304,
   "metadata": {},
   "outputs": [],
   "source": [
    "def encryption_round(state, rkey, expanded_keys):\n",
    "    state = sub_byte(state)\n",
    "    state = shift_row(state)\n",
    "    state = mix_columns(state)\n",
    "    state = add_round_key(state, expanded_keys[rkey:rkey+4])\n",
    "    return state"
   ]
  },
  {
   "cell_type": "code",
   "execution_count": 305,
   "metadata": {},
   "outputs": [],
   "source": [
    "def decryption_round(state, rkey, expanded_keys):\n",
    "    state = inv_sub_byte(state)\n",
    "    state = inv_shift_row(state)\n",
    "    state = inv_mix_columns(state)\n",
    "    state = add_round_key(state, inv_mix_columns(expanded_keys[rkey-4:rkey]))\n",
    "    return state"
   ]
  },
  {
   "cell_type": "code",
   "execution_count": 306,
   "metadata": {},
   "outputs": [],
   "source": [
    "def encrypt(plain_text, key, print=False, all_states=None):\n",
    "    # create input state\n",
    "    init_state = gen4x4Square(plain_text)\n",
    "    expanded_keys = key_expansion(key)\n",
    "    rkey = 0\n",
    "    # add states to an array (optional)\n",
    "    if not all_states is None:\n",
    "        all_states.append(init_state)\n",
    "    # check if we want to print states\n",
    "    if print:\n",
    "        print_state(init_state, 'input_state', rkey, expanded_keys)\n",
    "    # initial transformation\n",
    "    state = add_round_key(init_state, expanded_keys[rkey:rkey+4])\n",
    "    if print:\n",
    "        print_state(state, 'initial_trans_state', rkey, expanded_keys)\n",
    "    rkey+=4\n",
    "    if not all_states is None:\n",
    "        all_states.append(state)\n",
    "    # go for 9 rounds\n",
    "    for i in range(9):\n",
    "        state = encryption_round(state, rkey, expanded_keys)\n",
    "        if not all_states is None:\n",
    "            all_states.append(state)\n",
    "        if print:\n",
    "            print_state(state, i+1, rkey, expanded_keys)\n",
    "        rkey+=4\n",
    "    # last round = no mix columns\n",
    "    state = add_round_key(shift_row(sub_byte(state)), expanded_keys[rkey:rkey+4])\n",
    "    if print:\n",
    "        print_state(state, 10)\n",
    "    if not all_states is None:\n",
    "        all_states.append(state)\n",
    "    return gen16Bytes(state)"
   ]
  },
  {
   "cell_type": "code",
   "execution_count": 307,
   "metadata": {},
   "outputs": [],
   "source": [
    "def decrypt(cypher_txt, key):\n",
    "    # create input state\n",
    "    init_state = gen4x4Square(cypher_txt)\n",
    "    expanded_keys = key_expansion(key)\n",
    "    rkey = 44\n",
    "    # initial transformation\n",
    "    state = add_round_key(init_state, expanded_keys[rkey-4:rkey])\n",
    "    rkey-=4\n",
    "    # go for 9 rounds\n",
    "    for i in range(9):\n",
    "        state = decryption_round(state, rkey, expanded_keys)\n",
    "        rkey-=4\n",
    "    # last round = no mix columns\n",
    "    state = add_round_key(inv_shift_row(inv_sub_byte(state)), expanded_keys[rkey-4:rkey])\n",
    "    return gen16Bytes(state)"
   ]
  },
  {
   "cell_type": "markdown",
   "metadata": {},
   "source": [
    "# Testing Procedure"
   ]
  },
  {
   "cell_type": "markdown",
   "metadata": {},
   "source": [
    "### 1. Key Expansion    "
   ]
  },
  {
   "cell_type": "code",
   "execution_count": 308,
   "metadata": {},
   "outputs": [
    {
     "name": "stdout",
     "output_type": "stream",
     "text": [
      "w0 = 0f 15 71 c9\n",
      "w1 = 47 d9 e8 59\n",
      "w2 = 0c b7 ad d6\n",
      "w3 = af 7f 67 98\n",
      "w4 = dc 90 37 b0\n",
      "w5 = 9b 49 df e9\n",
      "w6 = 97 fe 72 3f\n",
      "w7 = 38 81 15 a7\n",
      "w8 = d2 c9 6b b7\n",
      "w9 = 49 80 b4 5e\n",
      "w10 = de 7e c6 61\n",
      "w11 = e6 ff d3 c6\n",
      "w12 = c0 af df 39\n",
      "w13 = 89 2f 6b 67\n",
      "w14 = 57 51 ad 06\n",
      "w15 = b1 ae 7e c0\n",
      "w16 = 2c 5c 65 f1\n",
      "w17 = a5 73 0e 96\n",
      "w18 = f2 22 a3 90\n",
      "w19 = 43 8c dd 50\n",
      "w20 = 58 9d 36 eb\n",
      "w21 = fd ee 38 7d\n",
      "w22 = 0f cc 9b ed\n",
      "w23 = 4c 40 46 bd\n",
      "w24 = 71 c7 4c c2\n",
      "w25 = 8c 29 74 bf\n",
      "w26 = 83 e5 ef 52\n",
      "w27 = cf a5 a9 ef\n",
      "w28 = 37 14 93 48\n",
      "w29 = bb 3d e7 f7\n",
      "w30 = 38 d8 08 a5\n",
      "w31 = f7 7d a1 4a\n",
      "w32 = 48 26 45 20\n",
      "w33 = f3 1b a2 d7\n",
      "w34 = cb c3 aa 72\n",
      "w35 = 3c be 0b 38\n",
      "w36 = fd 0d 42 cb\n",
      "w37 = 0e 16 e0 1c\n",
      "w38 = c5 d5 4a 6e\n",
      "w39 = f9 6b 41 56\n",
      "w40 = b4 8e f3 52\n",
      "w41 = ba 98 13 4e\n",
      "w42 = 7f 4d 59 20\n",
      "w43 = 86 26 18 76\n"
     ]
    }
   ],
   "source": [
    "key = '0f1571c947d9e8590cb7add6af7f6798'\n",
    "expanded_key = key_expansion(key)\n",
    "for i, row in enumerate(expanded_key):\n",
    "\tprint(f'w{i} = {row[0]} {row[1]} {row[2]} {row[3]}')"
   ]
  },
  {
   "cell_type": "markdown",
   "metadata": {},
   "source": [
    "### 2. AES Encryption & Decryption"
   ]
  },
  {
   "cell_type": "markdown",
   "metadata": {},
   "source": [
    "### Encrypt"
   ]
  },
  {
   "cell_type": "code",
   "execution_count": 309,
   "metadata": {},
   "outputs": [
    {
     "name": "stdout",
     "output_type": "stream",
     "text": [
      "-----------------------------------\n",
      "input_state\n",
      "-----------------------------------\n",
      "state:                 round key:\n",
      "01 89 fe 76            0f 47 0c af\n",
      "23 ab dc 54            15 d9 b7 7f\n",
      "45 cd ba 32            71 e8 ad 67\n",
      "67 ef 98 10            c9 59 d6 98\n",
      "\n",
      "-----------------------------------\n",
      "initial_trans_state\n",
      "-----------------------------------\n",
      "state:                 round key:\n",
      "0e ce f2 d9            0f 47 0c af\n",
      "36 72 6b 2b            15 d9 b7 7f\n",
      "34 25 17 55            71 e8 ad 67\n",
      "ae b6 4e 88            c9 59 d6 98\n",
      "\n",
      "-----------------------------------\n",
      "1\n",
      "-----------------------------------\n",
      "state:                 round key:\n",
      "65 0f c0 4d            dc 9b 97 38\n",
      "74 c7 e8 d0            90 49 fe 81\n",
      "70 ff e8 2a            37 df 72 15\n",
      "75 3f ca 9c            b0 e9 3f a7\n",
      "\n",
      "-----------------------------------\n",
      "2\n",
      "-----------------------------------\n",
      "state:                 round key:\n",
      "5c 6b 05 f4            d2 49 de e6\n",
      "7b 72 a2 6d            c9 80 7e ff\n",
      "b4 34 31 12            6b b4 c6 d3\n",
      "9a 9b 7f 94            b7 5e 61 c6\n",
      "\n",
      "-----------------------------------\n",
      "3\n",
      "-----------------------------------\n",
      "state:                 round key:\n",
      "71 48 5c 7d            c0 89 57 b1\n",
      "15 dc da a9            af 2f 51 ae\n",
      "26 74 c7 bd            df 6b ad 7e\n",
      "24 7e 22 9c            39 67 06 c0\n",
      "\n",
      "-----------------------------------\n",
      "4\n",
      "-----------------------------------\n",
      "state:                 round key:\n",
      "f8 b4 0c 4c            2c a5 f2 43\n",
      "67 37 24 ff            5c 73 22 8c\n",
      "ae a5 c1 ea            65 0e a3 dd\n",
      "e8 21 97 bc            f1 96 90 50\n",
      "\n",
      "-----------------------------------\n",
      "5\n",
      "-----------------------------------\n",
      "state:                 round key:\n",
      "72 ba cb 04            58 fd 0f 4c\n",
      "1e 06 d4 fa            9d ee cc 40\n",
      "b2 20 bc 65            36 38 9b 46\n",
      "00 6d e7 4e            eb 7d ed bd\n",
      "\n",
      "-----------------------------------\n",
      "6\n",
      "-----------------------------------\n",
      "state:                 round key:\n",
      "0a 89 c1 85            71 8c 83 cf\n",
      "d9 f9 c5 e5            c7 29 e5 a5\n",
      "d8 f7 f7 fb            4c 74 ef a9\n",
      "56 7b 11 14            c2 bf 52 ef\n",
      "\n",
      "-----------------------------------\n",
      "7\n",
      "-----------------------------------\n",
      "state:                 round key:\n",
      "db a1 f8 77            37 bb 38 f7\n",
      "18 6d 8b ba            14 3d d8 7d\n",
      "a8 30 08 4e            93 e7 08 a1\n",
      "ff d5 d7 aa            48 f7 a5 4a\n",
      "\n",
      "-----------------------------------\n",
      "8\n",
      "-----------------------------------\n",
      "state:                 round key:\n",
      "f9 e9 8f 2b            48 f3 cb 3c\n",
      "1b 34 2f 08            26 1b c3 be\n",
      "4f c9 85 49            45 a2 aa 0b\n",
      "bf bf 81 89            20 d7 72 38\n",
      "\n",
      "-----------------------------------\n",
      "9\n",
      "-----------------------------------\n",
      "state:                 round key:\n",
      "cc 3e ff 3b            fd 0e c5 f9\n",
      "a1 67 59 af            0d 16 d5 6b\n",
      "04 85 02 aa            42 e0 4a 41\n",
      "a1 00 5f 34            cb 1c 6e 56\n",
      "\n",
      "-----------------------------------\n",
      "10\n",
      "-----------------------------------\n",
      "state:                 \n",
      "ff 08 69 64               \n",
      "0b 53 34 14               \n",
      "84 bf ab 8f               \n",
      "4a 7c 43 b9               \n",
      "\n"
     ]
    }
   ],
   "source": [
    "plaintxt = '0123456789abcdeffedcba9876543210'\n",
    "key = '0f1571c947d9e8590cb7add6af7f6798'\n",
    "cypher_txt = encrypt(plaintxt, key, True)"
   ]
  },
  {
   "cell_type": "markdown",
   "metadata": {},
   "source": [
    "### Decrypt"
   ]
  },
  {
   "cell_type": "code",
   "execution_count": 310,
   "metadata": {},
   "outputs": [
    {
     "data": {
      "text/plain": [
       "'0123456789abcdeffedcba9876543210'"
      ]
     },
     "execution_count": 310,
     "metadata": {},
     "output_type": "execute_result"
    }
   ],
   "source": [
    "decrypt(cypher_txt, key)"
   ]
  },
  {
   "cell_type": "markdown",
   "metadata": {},
   "source": [
    "### 3. The Avalanche Effect"
   ]
  },
  {
   "cell_type": "code",
   "execution_count": 311,
   "metadata": {
    "slideshow": {
     "slide_type": "skip"
    }
   },
   "outputs": [
    {
     "name": "stdout",
     "output_type": "stream",
     "text": [
      "------------------------------------------\n",
      "original: 0e3634aece7225b6f26b174ed92b5588\n",
      "modified: 0f3634aece7225b6f26b174ed92b5588\n",
      "------------------------------------------\n",
      "original: 0e3634aece7225b6f26b174ed92b5588\n",
      "modified: 0f3634aece7225b6f26b174ed92b5588\n",
      "------------------------------------------\n",
      "original: 657470750fc7ff3fc0e8e8ca4dd02a9c\n",
      "modified: c4a9ad090fc7ff3fc0e8e8ca4dd02a9c\n",
      "------------------------------------------\n",
      "original: 5c7bb49a6b72349b05a2317ff46d1294\n",
      "modified: fe2ae569f7ee8bb8c1f5a2bb37ef53d5\n",
      "------------------------------------------\n",
      "original: 7115262448dc747e5cdac7227da9bd9c\n",
      "modified: ec093dfb7c45343d689017507d485e62\n",
      "------------------------------------------\n",
      "original: f867aee8b437a5210c24c1974cffeabc\n",
      "modified: 43efdb697244df808e8d9364ee0ae6f5\n",
      "------------------------------------------\n",
      "original: 721eb200ba06206dcbd4bce704fa654e\n",
      "modified: 7b28a5d5ed643287e006c099bb375302\n",
      "------------------------------------------\n",
      "original: 0ad9d85689f9f77bc1c5f71185e5fb14\n",
      "modified: 3bc2d8b6798d8ac4fe36a1d891ac181a\n",
      "------------------------------------------\n",
      "original: db18a8ffa16d30d5f88b08d777ba4eaa\n",
      "modified: 9fb8b5452023c70280e5c4bb9e555a4b\n",
      "------------------------------------------\n",
      "original: f91b4fbfe934c9bf8f2f85812b084989\n",
      "modified: 20264e1126b219aef7feb3f9b2d6de40\n",
      "------------------------------------------\n",
      "original: cca104a13e678500ff59025f3bafaa34\n",
      "modified: b56a0341b2290ba7dfdfbddcd8578205\n",
      "------------------------------------------\n",
      "original: ff0b844a0853bf7c6934ab4364148fb9\n",
      "modified: 612b89398d0600cde116227ce72433f0\n"
     ]
    }
   ],
   "source": [
    "original_key_states = []\n",
    "modified_key_states = []\n",
    "encrypt('0123456789abcdeffedcba9876543210', key, False, original_key_states)\n",
    "encrypt('0023456789abcdeffedcba9876543210', key, False, modified_key_states)\n",
    "for i in range(len(original_key_states)):\n",
    "    print('------------------------------------------')\n",
    "    print(f'original: {gen16Bytes(original_key_states[i])}')\n",
    "    print(f'modified: {gen16Bytes(modified_key_states[i])}')"
   ]
  },
  {
   "cell_type": "code",
   "execution_count": 312,
   "metadata": {},
   "outputs": [
    {
     "name": "stdout",
     "output_type": "stream",
     "text": [
      "------------------------------------------\n",
      "original: 0e3634aece7225b6f26b174ed92b5588\n",
      "modified: 0f3634aece7225b6f26b174ed92b5588\n",
      "------------------------------------------\n",
      "original: 0e3634aece7225b6f26b174ed92b5588\n",
      "modified: 0f3634aece7225b6f26b174ed92b5588\n",
      "------------------------------------------\n",
      "original: 657470750fc7ff3fc0e8e8ca4dd02a9c\n",
      "modified: c5a9ad090ec7ff3fc1e8e8ca4cd02a9c\n",
      "------------------------------------------\n",
      "original: 5c7bb49a6b72349b05a2317ff46d1294\n",
      "modified: 90905fa9563356d15f3760f3b8259985\n",
      "------------------------------------------\n",
      "original: 7115262448dc747e5cdac7227da9bd9c\n",
      "modified: 18aeb7aa794b3b66629448d575c7cebf\n",
      "------------------------------------------\n",
      "original: f867aee8b437a5210c24c1974cffeabc\n",
      "modified: f81015f993c978a876ae017cb49e7eec\n",
      "------------------------------------------\n",
      "original: 721eb200ba06206dcbd4bce704fa654e\n",
      "modified: 5955c91b4e769f3cb4a94768e98d5267\n",
      "------------------------------------------\n",
      "original: 0ad9d85689f9f77bc1c5f71185e5fb14\n",
      "modified: dc60a24d137662181e45b8d3726b2920\n",
      "------------------------------------------\n",
      "original: db18a8ffa16d30d5f88b08d777ba4eaa\n",
      "modified: fe8343b8f88bef66cab7e977d005a03c\n",
      "------------------------------------------\n",
      "original: f91b4fbfe934c9bf8f2f85812b084989\n",
      "modified: da7dad581d1725c5b72fa0f9d9d1366a\n",
      "------------------------------------------\n",
      "original: cca104a13e678500ff59025f3bafaa34\n",
      "modified: 0ccb4c66bbfd912f4b511d72996345e0\n",
      "------------------------------------------\n",
      "original: ff0b844a0853bf7c6934ab4364148fb9\n",
      "modified: fc8923ee501a7d207ab670686839996b\n"
     ]
    }
   ],
   "source": [
    "\n",
    "original_key_states = []\n",
    "modified_key_states = []\n",
    "encrypt(plaintxt, '0f1571c947d9e8590cb7add6af7f6798', False, original_key_states)\n",
    "encrypt(plaintxt, '0e1571c947d9e8590cb7add6af7f6798', False, modified_key_states)\n",
    "for i in range(len(original_key_states)):\n",
    "    print('------------------------------------------')\n",
    "    print(f'original: {gen16Bytes(original_key_states[i])}')\n",
    "    print(f'modified: {gen16Bytes(modified_key_states[i])}')"
   ]
  }
 ],
 "metadata": {
  "kernelspec": {
   "display_name": "Python 3.8.10 64-bit",
   "language": "python",
   "name": "python3"
  },
  "language_info": {
   "codemirror_mode": {
    "name": "ipython",
    "version": 3
   },
   "file_extension": ".py",
   "mimetype": "text/x-python",
   "name": "python",
   "nbconvert_exporter": "python",
   "pygments_lexer": "ipython3",
   "version": "3.8.10"
  },
  "orig_nbformat": 4,
  "vscode": {
   "interpreter": {
    "hash": "e7370f93d1d0cde622a1f8e1c04877d8463912d04d973331ad4851f04de6915a"
   }
  }
 },
 "nbformat": 4,
 "nbformat_minor": 2
}
