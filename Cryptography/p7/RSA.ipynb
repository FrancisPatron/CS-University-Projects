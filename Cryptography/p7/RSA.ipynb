{
 "cells": [
  {
   "cell_type": "markdown",
   "metadata": {},
   "source": [
    "## CIIC5018 / ICOM5018\n",
    "## Network Security and Cryptography\n",
    "## Project 7: RSA Implementation\n",
    "### Francis Jose Patron Fidalgo (802180833)\n",
    "### sec: 060\n",
    "### 11/08/2022"
   ]
  },
  {
   "cell_type": "markdown",
   "metadata": {},
   "source": [
    "# 1) modular exponentiation function"
   ]
  },
  {
   "cell_type": "code",
   "execution_count": 301,
   "metadata": {},
   "outputs": [],
   "source": [
    "def mod_exp_r2l(base, exponent, modulus):\n",
    "    if modulus == 1:\n",
    "        return 0\n",
    "    result = 1\n",
    "    base %= modulus\n",
    "    while exponent > 0:\n",
    "        if exponent % 2 == 1:\n",
    "            result = (result * base) % modulus\n",
    "        exponent >>= 1\n",
    "        base = (base * base) % modulus\n",
    "    return result"
   ]
  },
  {
   "cell_type": "markdown",
   "metadata": {},
   "source": [
    "# 2) Miller-Rabin algorithm"
   ]
  },
  {
   "cell_type": "code",
   "execution_count": 302,
   "metadata": {},
   "outputs": [],
   "source": [
    "from random import randrange, getrandbits\n",
    "\n",
    "INCONCLUSIVE = 'inconclusive'\n",
    "COMPOSITE = 'composite'\n",
    "\n",
    "def miller_rabin(n):\n",
    "    if n == 2:\n",
    "        return INCONCLUSIVE\n",
    "    if n % 2 == 0:\n",
    "        return COMPOSITE\n",
    "    q = n - 1\n",
    "    k = 0\n",
    "    while q % 2 == 0:\n",
    "        q = q // 2\n",
    "        k += 1\n",
    "    a = randrange(2, n - 1)\n",
    "    tmp = pow(a, q, n) # a^q mod n\n",
    "    if tmp == 1 or tmp == n - 1:\n",
    "        return INCONCLUSIVE\n",
    "    for _ in range(k - 1):\n",
    "        tmp = pow(tmp, 2, n)\n",
    "        if tmp == n - 1:\n",
    "            return INCONCLUSIVE\n",
    "    return COMPOSITE"
   ]
  },
  {
   "cell_type": "code",
   "execution_count": 303,
   "metadata": {},
   "outputs": [],
   "source": [
    "def is_prime(n):\n",
    "    for _ in range(20):\n",
    "        if miller_rabin(n) is COMPOSITE:\n",
    "            return False\n",
    "    return True"
   ]
  },
  {
   "cell_type": "code",
   "execution_count": 304,
   "metadata": {},
   "outputs": [],
   "source": [
    "def gen_prime(n):\n",
    "    n += 1\n",
    "    while not is_prime(n):\n",
    "        n+=1\n",
    "    return n"
   ]
  },
  {
   "cell_type": "markdown",
   "metadata": {},
   "source": [
    "# 3) RSA"
   ]
  },
  {
   "cell_type": "code",
   "execution_count": 305,
   "metadata": {},
   "outputs": [],
   "source": [
    "def euclid(a, b):\n",
    "    if (b == 0):\n",
    "        return a\n",
    "    else:\n",
    "        return euclid(b, a % b)\n",
    "\n",
    "def ext_euclid(a, b):\n",
    "    # Base Case\n",
    "    if a == 0 :\n",
    "        return b,0,1\n",
    "             \n",
    "    gcd,x1,y1 = ext_euclid(b%a, a)\n",
    "     \n",
    "    # Update x and y using results of recursive\n",
    "    # call\n",
    "    x = y1 - (b//a) * x1\n",
    "    y = x1\n",
    "     \n",
    "    return gcd,x,y"
   ]
  },
  {
   "cell_type": "code",
   "execution_count": 306,
   "metadata": {},
   "outputs": [],
   "source": [
    "def gen_keys():\n",
    "    # generate p and q 8-byte prime numbers\n",
    "    p = gen_prime(getrandbits(64))\n",
    "    q = gen_prime(getrandbits(64))\n",
    "\n",
    "    # calculate n\n",
    "    n = p * q\n",
    "\n",
    "    # calculate phi(n) \n",
    "    pn = (p-1) * (q - 1)\n",
    "\n",
    "    # select e such that its relaively prime to pn\n",
    "    e = randrange(1, pn)\n",
    "    while euclid(e, pn) != 1:\n",
    "        e = randrange(1, pn)\n",
    "\n",
    "    # determine d\n",
    "    d, x, y = ext_euclid(e, pn)\n",
    "    d = x % pn\n",
    "\n",
    "    return {\n",
    "        'public': (n, e),\n",
    "        'private': (n, d)\n",
    "    }"
   ]
  },
  {
   "cell_type": "code",
   "execution_count": 307,
   "metadata": {},
   "outputs": [],
   "source": [
    "def encrypt(pub_key, m):\n",
    "    return mod_exp_r2l(m, pub_key[1], pub_key[0])"
   ]
  },
  {
   "cell_type": "code",
   "execution_count": 308,
   "metadata": {},
   "outputs": [],
   "source": [
    "def decrypt(priv_key, c):\n",
    "    return mod_exp_r2l(c, priv_key[1], priv_key[0])"
   ]
  },
  {
   "cell_type": "markdown",
   "metadata": {},
   "source": [
    "# Tests"
   ]
  },
  {
   "cell_type": "markdown",
   "metadata": {},
   "source": [
    "### 1) Miller-Rabin algorithm"
   ]
  },
  {
   "cell_type": "code",
   "execution_count": null,
   "metadata": {},
   "outputs": [],
   "source": [
    "def test_miller_rabin():"
   ]
  }
 ],
 "metadata": {
  "kernelspec": {
   "display_name": "Python 3.10.6 64-bit",
   "language": "python",
   "name": "python3"
  },
  "language_info": {
   "codemirror_mode": {
    "name": "ipython",
    "version": 3
   },
   "file_extension": ".py",
   "mimetype": "text/x-python",
   "name": "python",
   "nbconvert_exporter": "python",
   "pygments_lexer": "ipython3",
   "version": "3.10.6"
  },
  "orig_nbformat": 4,
  "vscode": {
   "interpreter": {
    "hash": "916dbcbb3f70747c44a77c7bcd40155683ae19c65e1c03b4aa3499c5328201f1"
   }
  }
 },
 "nbformat": 4,
 "nbformat_minor": 2
}
