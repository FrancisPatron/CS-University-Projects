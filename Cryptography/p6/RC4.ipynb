{
 "cells": [
  {
   "cell_type": "markdown",
   "metadata": {},
   "source": [
    "## CIIC5018 / ICOM5018\n",
    "## Network Security and Cryptography\n",
    "## Project 6: RC4 Implementation\n",
    "### Francis Jose Patron Fidalgo (802180833)\n",
    "### sec: 060\n",
    "### --/--/2022"
   ]
  },
  {
   "cell_type": "code",
   "execution_count": 581,
   "metadata": {},
   "outputs": [],
   "source": [
    "import matplotlib.pyplot as plt\n",
    "from timeit import default_timer as timer"
   ]
  },
  {
   "cell_type": "code",
   "execution_count": 582,
   "metadata": {},
   "outputs": [],
   "source": [
    "class RC4:\n",
    "    def __init__(self, key):\n",
    "        self.s = list(range(256))\n",
    "        self.t = [None]*256\n",
    "        self.j = 0\n",
    "        self.i = 0\n",
    "        self.key = key\n",
    "\n",
    "        # support for bytes in string\n",
    "        if type(key) is str:\n",
    "            key = [int(key[i:i+2], 16) for i in range(0, len(key), 2)]\n",
    "\n",
    "        # initialization\n",
    "        for i in range(256):\n",
    "            self.t[i] = key[i % len(key)]\n",
    "\n",
    "        # initial permutation of s\n",
    "        j = 0\n",
    "        for i in range(256):\n",
    "            j = (j + self.s[i] + self.t[i]) % 256\n",
    "            self.s[i], self.s[j] = self.s[j], self.s[i]\n",
    "\n",
    "    def _next_code(self):\n",
    "        # Stream Generation\n",
    "        self.i  = (self.i + 1) % 256\n",
    "        self.j = (self.j + self.s[self.i]) % 256\n",
    "        self.s[self.i], self.s[self.j] = self.s[self.j], self.s[self.i]\n",
    "        self.t = (self.s[self.i] + self.s[self.j]) % 256\n",
    "        return self.s[self.t]\n",
    "\n",
    "    def _xor_code(self, byte):\n",
    "        return '{:02x}'.format(byte ^ self._next_code())\n",
    "\n",
    "    def enc_dec_array(self, bytes):\n",
    "        # support for bytes in string\n",
    "        if type(bytes) is str:\n",
    "            bytes = [int(bytes[i:i+2], 16) for i in range(0, len(bytes), 2)]\n",
    "        result = ''.join([self._xor_code(b) for b in bytes])\n",
    "        return result"
   ]
  },
  {
   "cell_type": "code",
   "execution_count": 583,
   "metadata": {},
   "outputs": [],
   "source": [
    "def bytes2text(bytes):\n",
    "    return ''.join([chr(int(bytes[i:i+2], 16)) for i in range(0, len(bytes), 2)])\n",
    "def txt2bytes(txt):\n",
    "    return ''.join(['{:02x}'.format(ord(c)) for c in txt])"
   ]
  },
  {
   "cell_type": "code",
   "execution_count": 584,
   "metadata": {},
   "outputs": [],
   "source": [
    "def get_byte_freq(bytes):\n",
    "    # support for bytes in string\n",
    "    if type(bytes) is str:\n",
    "        bytes = [bytes[i:i+2] for i in range(0, len(bytes), 2)]\n",
    "    unique_bytes = list(dict.fromkeys(bytes))\n",
    "    frequencies = []\n",
    "    # position cache\n",
    "    pos = {}\n",
    "    for b in unique_bytes:\n",
    "        frequencies.append(bytes.count(b))\n",
    "    return frequencies, unique_bytes\n"
   ]
  },
  {
   "cell_type": "code",
   "execution_count": 585,
   "metadata": {},
   "outputs": [],
   "source": [
    "def plot(freq, bytes):\n",
    "    freq = freq.copy()\n",
    "    sorted_freq = freq.copy()\n",
    "    sorted_freq.sort(reverse=True)\n",
    "    sorted_bytes = []\n",
    "    for i in sorted_freq:\n",
    "        sorted_bytes.append(bytes[freq.pop(freq.index(i))])\n",
    "    plt.figure(figsize = (20, 10))\n",
    "    bars = plt.bar(sorted_bytes, sorted_freq, color ='gray', width=0.5)\n",
    "    plt.title('RC4 Encryption Byte Frequencies')\n",
    "    plt.xlabel(\"Bytes\")\n",
    "    plt.ylabel(\"Frequency\")\n",
    "    plt.margins(x=0, y=0)\n",
    "    plt.rc('font', **{'size'   : 12})\n",
    "    for bar in bars:\n",
    "        yval = bar.get_height()\n",
    "        plt.text(bar.get_x(), yval + 0.05, yval)\n",
    "    plt.show()\n"
   ]
  },
  {
   "cell_type": "markdown",
   "metadata": {},
   "source": [
    "# Test"
   ]
  },
  {
   "cell_type": "code",
   "execution_count": 591,
   "metadata": {},
   "outputs": [
    {
     "name": "stdout",
     "output_type": "stream",
     "text": [
      "[218, 139, 61, 178, 27, 4, 243, 92, 187, 62, 211, 175, 87, 167, 41, 170, 40, 253, 238, 102, 127, 70, 245, 163, 249, 119, 101, 88, 75, 0, 236, 43, 223, 68, 201, 246, 108, 129, 13, 176, 151, 82, 98, 168, 9, 37, 96, 252, 73, 116, 198, 100, 3, 90, 26, 5, 11, 220, 124, 45, 120, 188, 19, 74, 60, 185, 134, 16, 113, 191, 79, 22, 38, 148, 115, 35, 64, 159, 146, 99, 81, 114, 142, 54, 52, 117, 29, 172, 46, 58, 10, 103, 194, 44, 215, 141, 67, 224, 48, 189, 94, 184, 55, 23, 7, 12, 109, 126, 152, 30, 86, 53, 128, 165, 254, 177, 56, 235, 196, 136, 125, 71, 95, 8, 123, 239, 59, 1, 50, 214, 6, 251, 193, 31, 135, 154, 85, 15, 107, 133, 110, 93, 25, 21, 47, 242, 160, 156, 158, 240, 231, 227, 18, 69, 14, 192, 147, 2, 65, 72, 229, 131, 203, 111, 77, 226, 144, 199, 202, 206, 219, 248, 42, 205, 250, 230, 89, 157, 63, 166, 204, 200, 169, 182, 118, 20, 217, 83, 228, 106, 241, 181, 137, 80, 171, 28, 121, 209, 150, 138, 39, 155, 143, 221, 244, 161, 234, 84, 34, 233, 122, 104, 149, 32, 186, 17, 195, 145, 105, 162, 78, 164, 222, 190, 130, 51, 216, 255, 207, 174, 76, 197, 210, 183, 173, 24, 91, 247, 179, 140, 132, 66, 232, 153, 36, 208, 97, 212, 57, 213, 225, 180, 237, 33, 112, 49]\n",
      "0\n",
      "0\n",
      "[218, 133, 61, 178, 27, 4, 243, 92, 187, 62, 211, 175, 87, 167, 41, 170, 40, 253, 238, 102, 127, 70, 245, 163, 249, 119, 101, 88, 75, 0, 236, 43, 223, 68, 201, 246, 108, 129, 13, 176, 151, 82, 98, 168, 9, 37, 96, 252, 73, 116, 198, 100, 3, 90, 26, 5, 11, 220, 124, 45, 120, 188, 19, 74, 60, 185, 134, 16, 113, 191, 79, 22, 38, 148, 115, 35, 64, 159, 146, 99, 81, 114, 142, 54, 52, 117, 29, 172, 46, 58, 10, 103, 194, 44, 215, 141, 67, 224, 48, 189, 94, 184, 55, 23, 7, 12, 109, 126, 152, 30, 86, 53, 128, 165, 254, 177, 56, 235, 196, 136, 125, 71, 95, 8, 123, 239, 59, 1, 50, 214, 6, 251, 193, 31, 135, 154, 85, 15, 107, 139, 110, 93, 25, 21, 47, 242, 160, 156, 158, 240, 231, 227, 18, 69, 14, 192, 147, 2, 65, 72, 229, 131, 203, 111, 77, 226, 144, 199, 202, 206, 219, 248, 42, 205, 250, 230, 89, 157, 63, 166, 204, 200, 169, 182, 118, 20, 217, 83, 228, 106, 241, 181, 137, 80, 171, 28, 121, 209, 150, 138, 39, 155, 143, 221, 244, 161, 234, 84, 34, 233, 122, 104, 149, 32, 186, 17, 195, 145, 105, 162, 78, 164, 222, 190, 130, 51, 216, 255, 207, 174, 76, 197, 210, 183, 173, 24, 91, 247, 179, 140, 132, 66, 232, 153, 36, 208, 97, 212, 57, 213, 225, 180, 237, 33, 112, 49]\n",
      "1\n",
      "139\n"
     ]
    }
   ],
   "source": [
    "# the states before and after generating a random byte\n",
    "rc4 = RC4(txt2bytes('incredible secure key'))\n",
    "print(rc4.s)\n",
    "print(rc4.i)\n",
    "print(rc4.j)\n",
    "num = rc4._next_code()\n",
    "print(rc4.s)\n",
    "print(rc4.i)\n",
    "print(rc4.j)"
   ]
  },
  {
   "cell_type": "code",
   "execution_count": 593,
   "metadata": {},
   "outputs": [
    {
     "name": "stdout",
     "output_type": "stream",
     "text": [
      "A1 = 6e6576657220756e6465722d657374696d6174652074686520706f776572206f66207468652073636f75747320636f6465\n",
      "A2 = 463b8bcae6c0150cc12dea64ffedb9c46891103051ad5d4b7286430546f4dc47f17c041c3019c5c105ada643055422e0fb\n",
      "A3 = 6e6576657220756e6465722d657374696d6174652074686520706f776572206f66207468652073636f75747320636f6465\n",
      "S1 = never under-estimate the power of the scouts code\n",
      "S2 = never under-estimate the power of the scouts code\n"
     ]
    }
   ],
   "source": [
    "key = txt2bytes('incredible secure key')\n",
    "\n",
    "#  Use the same key string to initialize two RC4 objects (RC4-E, RC4-D)\n",
    "rc4_E = RC4(key)\n",
    "rc4_D = RC4(key)\n",
    "# Converting a sting of text (S1) to an array of bytes (A1)\n",
    "s1 = 'never under-estimate the power of the scouts code' \n",
    "a1 = txt2bytes(s1)\n",
    "print(f'A1 = {a1}')\n",
    "# Encrypt A1 using RC4-E and get array A2\n",
    "a2 = rc4_E.enc_dec_array(a1)\n",
    "print(f'A2 = {a2}')\n",
    "# Decrypt A2 using RC4-D and get array A3\n",
    "a3 = rc4_D.enc_dec_array(a2)\n",
    "print(f'A3 = {a3}')\n",
    "# Covert A3 to a string (S2), which shall the same as S1\n",
    "s2 = bytes2text(a3)\n",
    "print(f'S1 = {s1}')\n",
    "print(f'S2 = {s2}')"
   ]
  },
  {
   "cell_type": "markdown",
   "metadata": {},
   "source": [
    "# Frequency & Encryption"
   ]
  },
  {
   "cell_type": "code",
   "execution_count": 588,
   "metadata": {},
   "outputs": [],
   "source": [
    "text = '''CIIC5018 / ICOM5018\n",
    "Network Security and Cryptography\n",
    "Overview\n",
    "Project 6 – RC4 and Stream Cipher\n",
    "In this project, you will need to design and implement RC4 and a stream cipher,\n",
    "and then compare the frequency of characters in the plaintext and cyphertext. The\n",
    "programming language is Python and the programming platform is Jupyter\n",
    "notebook.\n",
    "Document requirements\n",
    "To work on the exercise, you will need to prepare three documents following the\n",
    "guidelines below.\n",
    "1.Adesigna.b.c.d.e.f.document\n",
    "Cover page\n",
    "i. It shall include the title of the document, your name, student\n",
    "ID, department and university information, etc.\n",
    "Table of content\n",
    "Section 1: The RC4 class\n",
    "i. The class shall store the following values\n",
    "1. The state S is an array of 256 integers, each integer is\n",
    "in range [0, 255]\n",
    "2. Parameter i\n",
    "3. Parameter j\n",
    "ii. The class shall contain the following functions\n",
    "1. Initializer\n",
    "2. Next_code\n",
    "3. XOR_code\n",
    "4. EncDec_array\n",
    "Section 2: The initializer of the RC4 class\n",
    "i. To initialize an RC4 object, you need to use a key that\n",
    "contains up to 256 bytes\n",
    "ii. The initializer must initialize S, i, j according to the standard\n",
    "Section 3: Next_code\n",
    "i. This function returns a new random integer in range [0, 255]\n",
    "ii. The internal values will be updated\n",
    "iii. All procedures must follow the standard\n",
    "Section 4: XOR_Code\n",
    "i. This function encrypt/decrypt an input byte by XOR it with a\n",
    "new code returned by Next_code\n",
    "ii. The return is an integer in range [0, 255]\n",
    "g. Section 5: EncDec_array\n",
    "i. This function encrypt/decrypt a whole array of bytes\n",
    "ii. The input is an array of integers\n",
    "iii. The output is an array of integers after calling XOR_Code for\n",
    "each byte\n",
    "h. References\n",
    "i. At least 5 references\n",
    "ii. Including a link to your YouTube video.\n",
    "2. A Python program saved in one Jupyter notebook file\n",
    "a. The RC4 class and all functions shall be implemented using Python.\n",
    "b. You shall demonstrate the initial permutation of state\n",
    "c. You shall demonstrate (state, i, j) before and after generating a\n",
    "random byte\n",
    "d. To verify your stream cipher, you must do the following\n",
    "i. Use the same key string to initialize two RC4 objects (RC4-E,\n",
    "RC4-D)\n",
    "ii. Converting a sting of text (S1) to an array of bytes (A1)\n",
    "iii. Encrypt A1 using RC4-E and get array A2\n",
    "iv. Decrypt A2 using RC4-D and get array A3\n",
    "v. Covert A3 to a string (S2), which shall the same as S1\n",
    "e. Use this document as a string to generate an array of bytes for\n",
    "ciphertext, then use the previous code to show the frequency of 256\n",
    "bytes.\n",
    "f. Determine the time to encrypt one character.\n",
    "i. You can record the total time to encrypt a large txt file, then\n",
    "divide the total amount of time by the total number of\n",
    "characters in the file.\n",
    "3. A Youtube video to walk through your code\n",
    "a. In the video, you shall go through Step 2.b to demonstrate the initial\n",
    "permutation of state\n",
    "b. In the video, you shall go through Step 2.c to demonstrate the states\n",
    "before and after generating a random byte\n",
    "c. In the video, you shall go through Step 2.d to demonstrate the\n",
    "correctness of your stream cipher\n",
    "d. In the video, you shall go through Step 2.e to show the frequency of\n",
    "bytes after using the stream cipher to encrypt a string of text\n",
    "e. In the video, you shall go through Step 2.f to show the time for\n",
    "encrypting a single character.\n",
    "f. Upload the video to youtube, set the video as private, then share it\n",
    "to me (Kejie.lu@upr.edu)\n",
    "Submission\n",
    "Submit a single zip file that includes:\n",
    "1. the design document\n",
    "2. the Jupyter notebook\n",
    "Evaluation\n",
    "1. Rubrics are used in the evaluation.\n",
    "2. You must carefully review all rubrics before preparing for the documents.'''"
   ]
  },
  {
   "cell_type": "code",
   "execution_count": 589,
   "metadata": {},
   "outputs": [
    {
     "name": "stdout",
     "output_type": "stream",
     "text": [
      "total exec time = 0.004184863999398658 seconds\n",
      "exec time per byte = 5.841518703794888e-07 seconds\n"
     ]
    },
    {
     "data": {
      "image/png": "[encoded data removed]",
      "text/plain": [
       "<Figure size 2000x1000 with 1 Axes>"
      ]
     },
     "metadata": {},
     "output_type": "display_data"
    }
   ],
   "source": [
    "text_bytes = txt2bytes(text)\n",
    "\n",
    "start_time = timer()\n",
    "encrypted_text = RC4(key).enc_dec_array(text_bytes)\n",
    "end_time = timer()\n",
    "\n",
    "total_time = end_time - start_time\n",
    "exec_time_per_byte = total_time / len(text_bytes)\n",
    "print(f'total exec time = {total_time} seconds')\n",
    "print(f'exec time per byte = {exec_time_per_byte} seconds')\n",
    "\n",
    "byte_freq, bytes = get_byte_freq(encrypted_text)\n",
    "\n",
    "plot(byte_freq, bytes)"
   ]
  }
 ],
 "metadata": {
  "kernelspec": {
   "display_name": "Python 3.8.10 64-bit",
   "language": "python",
   "name": "python3"
  },
  "language_info": {
   "codemirror_mode": {
    "name": "ipython",
    "version": 3
   },
   "file_extension": ".py",
   "mimetype": "text/x-python",
   "name": "python",
   "nbconvert_exporter": "python",
   "pygments_lexer": "ipython3",
   "version": "3.8.10"
  },
  "orig_nbformat": 4,
  "vscode": {
   "interpreter": {
    "hash": "e7370f93d1d0cde622a1f8e1c04877d8463912d04d973331ad4851f04de6915a"
   }
  }
 },
 "nbformat": 4,
 "nbformat_minor": 2
}
