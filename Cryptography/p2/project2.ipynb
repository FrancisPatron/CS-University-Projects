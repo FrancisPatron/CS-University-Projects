{
 "cells": [
  {
   "cell_type": "markdown",
   "metadata": {},
   "source": [
    "## CIIC5018 / ICOM5018\n",
    "## Network Security and Cryptography\n",
    "## Project 2: Playfair Cipher and Vigenere Cipher\n",
    "### Francis Jose Patron Fidalgo (802180833)\n",
    "### sec: 060\n",
    "### 09/02/2022"
   ]
  },
  {
   "cell_type": "markdown",
   "metadata": {},
   "source": [
    "## Letter & Number Conversion Hash Maps\n",
    "Python maps used to change between Letters and Numbers (example: A = 0, B = 1, C = 2, etc.)"
   ]
  },
  {
   "cell_type": "code",
   "execution_count": 1,
   "metadata": {},
   "outputs": [],
   "source": [
    "import string\n",
    "import numpy as np\n",
    "import matplotlib.pyplot as plt\n",
    "from collections import OrderedDict\n",
    "\n",
    "letter2num = dict(zip(string.ascii_uppercase, range(0, 26)))\n",
    "num2letter = {v: k for k, v in letter2num.items()}"
   ]
  },
  {
   "cell_type": "markdown",
   "metadata": {},
   "source": [
    "## Text Preparation Function   \n",
    "Change the plain text into the input we want. All uppercase English letters.\n"
   ]
  },
  {
   "cell_type": "code",
   "execution_count": 2,
   "metadata": {},
   "outputs": [],
   "source": [
    "def prepare_text(input_txt: str) -> str:\n",
    "    return ''.join([c.upper() for c in input_txt if c.isalpha()])"
   ]
  },
  {
   "cell_type": "markdown",
   "metadata": {},
   "source": [
    "## Playfair Functions"
   ]
  },
  {
   "cell_type": "code",
   "execution_count": 3,
   "metadata": {},
   "outputs": [],
   "source": [
    "def generate_matrix(cypher_key: str) -> list:\n",
    "    # remove any duplicate letters\n",
    "    cypher_key = prepare_text(''.join(OrderedDict.fromkeys(cypher_key)))\n",
    "    cypher_key.replace('J', 'I')\n",
    "    matrix = [[None for _ in range(5)] for _ in range(5)] # create 5x5 matrix\n",
    "    row = 0\n",
    "    # add the rest of the English letters\n",
    "    all_letters = [letter for letter in cypher_key]\n",
    "    for letter in string.ascii_uppercase.replace('J', 'I'):\n",
    "        if not letter in all_letters:\n",
    "            all_letters.append(letter)\n",
    "    # add everything to the matrix\n",
    "    for i, letter in enumerate(all_letters):\n",
    "        if i % 5 == 0 and i != 0:\n",
    "            row += 1\n",
    "        matrix[row][i % 5] = letter\n",
    "    return matrix"
   ]
  },
  {
   "cell_type": "code",
   "execution_count": 4,
   "metadata": {},
   "outputs": [],
   "source": [
    "def get_letter_location(letter: str, matrix: list) -> tuple:\n",
    "    for row in range(len(matrix)):\n",
    "        for col in range(len(matrix)):\n",
    "            if letter == matrix[row][col]:\n",
    "                return row, col"
   ]
  },
  {
   "cell_type": "code",
   "execution_count": 5,
   "metadata": {},
   "outputs": [],
   "source": [
    "def playfair_encryption(plain_text: str, cypher_key: str) -> str:\n",
    "    # put plain text in uppercase English letters\n",
    "    plain_text = prepare_text(plain_text).replace('J', 'I')\n",
    "    # separate all letters in pairs\n",
    "    separated_letters = []\n",
    "    i = 0\n",
    "    while i < len(plain_text):\n",
    "        # check to see there are consecutive letters\n",
    "        if i == len(plain_text)-1 or plain_text[i] == plain_text[i+1]:\n",
    "            separated_letters.append(plain_text[i]+'X')\n",
    "        else:\n",
    "            separated_letters.append(plain_text[i]+plain_text[i+1])\n",
    "            i+=1\n",
    "        i+=1\n",
    "\n",
    "    # get cypher matrix\n",
    "    cypher_matrix = generate_matrix(cypher_key)\n",
    "    encrypter_pairs = []\n",
    "    # go through each letter pair\n",
    "    for pair in separated_letters:\n",
    "        # get locations for each pair\n",
    "        row1, col1 = get_letter_location(pair[0], cypher_matrix)\n",
    "        row2, col2 = get_letter_location(pair[1], cypher_matrix)\n",
    "\n",
    "        # Two plaintext letters that fall in the same row of the matrix are each replaced\n",
    "        # by the letter to the right, with the first element of the row circularly following\n",
    "        # the last.\n",
    "        if row1 == row2:\n",
    "            encrypter_pairs.append(cypher_matrix[row1][(col1+1) % 5]+cypher_matrix[row2][(col2+1) % 5])\n",
    "        \n",
    "        # Two plaintext letters that fall in the same column are each replaced by the\n",
    "        # letter beneath, with the top element of the column circularly following the last.\n",
    "        elif col1 == col2:\n",
    "            encrypter_pairs.append(cypher_matrix[(row1+1) % 5][col1]+cypher_matrix[(row2+1) % 5][col2])\n",
    "        \n",
    "        # Otherwise, each plaintext letter in a pair is replaced by the letter that lies in\n",
    "        # its own row and the column occupied by the other plaintext letter.\n",
    "        else:\n",
    "            encrypter_pairs.append(cypher_matrix[row1][col2]+cypher_matrix[row2][col1])\n",
    "\n",
    "    return ''.join(encrypter_pairs)   "
   ]
  },
  {
   "cell_type": "code",
   "execution_count": 6,
   "metadata": {},
   "outputs": [],
   "source": [
    "def playfair_decryption(cypher_text: str, cypher_key: str) -> str:\n",
    "    # get cypher matrix\n",
    "    cypher_matrix = generate_matrix(cypher_key)\n",
    "\n",
    "    # separate into pairs\n",
    "    separated_letters = []\n",
    "    i = 0\n",
    "    while i < len(cypher_text)-1:\n",
    "        separated_letters.append(cypher_text[i]+cypher_text[i+1])\n",
    "        i+=2\n",
    "\n",
    "    plain_text_pairs = []\n",
    "    # go through each letter pair)\n",
    "    for pair in separated_letters:\n",
    "        # get locations for each pair\n",
    "        row1, col1 = get_letter_location(pair[0], cypher_matrix)\n",
    "        row2, col2 = get_letter_location(pair[1], cypher_matrix)\n",
    "\n",
    "        # Two plaintext letters that fall in the same row of the matrix are each replaced\n",
    "        # by the letter to the right, with the first element of the row circularly following\n",
    "        # the last.\n",
    "        if row1 == row2:\n",
    "            plain_text_pairs.append(cypher_matrix[row1][(col1-1) % 5]+cypher_matrix[row2][(col2-1) % 5])\n",
    "        \n",
    "        # Two plaintext letters that fall in the same column are each replaced by the\n",
    "        # letter beneath, with the top element of the column circularly following the last.\n",
    "        elif col1 == col2:\n",
    "            plain_text_pairs.append(cypher_matrix[(row1-1) % 5][col1]+cypher_matrix[(row2-1) % 5][col2])\n",
    "        \n",
    "        # Otherwise, each plaintext letter in a pair is replaced by the letter that lies in\n",
    "        # its own row and the column occupied by the other plaintext letter.\n",
    "        else:\n",
    "            plain_text_pairs.append(cypher_matrix[row1][col2]+cypher_matrix[row2][col1])\n",
    "\n",
    "    return ''.join(plain_text_pairs).replace('X', '')"
   ]
  },
  {
   "cell_type": "markdown",
   "metadata": {},
   "source": [
    "## Vigenere Functions\n"
   ]
  },
  {
   "cell_type": "code",
   "execution_count": 7,
   "metadata": {},
   "outputs": [],
   "source": [
    "def encrypt_indivicual_letter(letter: str, key_letter: str) -> str:\n",
    "    cypher_num = letter2num[letter] + letter2num[key_letter]\n",
    "    return num2letter[cypher_num % 26]"
   ]
  },
  {
   "cell_type": "code",
   "execution_count": 8,
   "metadata": {},
   "outputs": [],
   "source": [
    "def decrypt_individual_letter(letter: str, key_letter: str) -> str:\n",
    "    cypher_num = letter2num[letter] - letter2num[key_letter]\n",
    "    return num2letter[cypher_num % 26]"
   ]
  },
  {
   "cell_type": "code",
   "execution_count": 9,
   "metadata": {},
   "outputs": [],
   "source": [
    "def vigenere_encryption(plain_text: str, cypher_key: str) -> str:\n",
    "    # format text\n",
    "    plain_text = prepare_text(plain_text)\n",
    "    cypher_key = prepare_text(cypher_key)\n",
    "\n",
    "    cypher_chars = []\n",
    "    # encrypt each letter\n",
    "    for i, letter in enumerate(plain_text):\n",
    "        cypher_chars.append(encrypt_indivicual_letter(letter, cypher_key[i % len(cypher_key)]))\n",
    "\n",
    "    return ''.join(cypher_chars)"
   ]
  },
  {
   "cell_type": "code",
   "execution_count": 10,
   "metadata": {},
   "outputs": [],
   "source": [
    "def vigenere_decryption(cypher_text: str, cypher_key: str) -> str:\n",
    "    # format text\n",
    "    cypher_text = prepare_text(cypher_text)\n",
    "    cypher_key = prepare_text(cypher_key)\n",
    "\n",
    "    plain_text_chars = []\n",
    "    for i, letter in enumerate(cypher_text):\n",
    "        plain_text_chars.append(decrypt_individual_letter(letter, cypher_key[i % len(cypher_key)]))\n",
    "    \n",
    "    return ''.join(plain_text_chars)"
   ]
  },
  {
   "cell_type": "markdown",
   "metadata": {},
   "source": [
    "## Relative Frequencies Functions"
   ]
  },
  {
   "cell_type": "code",
   "execution_count": 11,
   "metadata": {},
   "outputs": [],
   "source": [
    "def get_letter_freq(text: str) -> map:\n",
    "    # convert to only uppercase english letters\n",
    "    plain_text = prepare_text(text)\n",
    "    # create map that contains all letters & the times repeated in the text, start all at 0\n",
    "    letter_freq = dict(zip(string.ascii_uppercase, [0]*len(string.ascii_uppercase)))\n",
    "    # iterate over the text\n",
    "    for letter in plain_text:\n",
    "        # add 1 to the frequencies map\n",
    "        letter_freq[letter] += 1\n",
    "\n",
    "    total_letters = sum(letter_freq.values())\n",
    "    for letter, freq in letter_freq.items():\n",
    "        letter_freq[letter] = round(freq/total_letters * 100, 3)\n",
    "\n",
    "    i = 12.702\n",
    "    for letter, freq in letter_freq.items():\n",
    "        letter_freq[letter] = round(freq/i, 1)\n",
    "    return letter_freq"
   ]
  },
  {
   "cell_type": "code",
   "execution_count": 12,
   "metadata": {},
   "outputs": [],
   "source": [
    "def generate_plot(plain_text, playfair, vigenere):\n",
    "    plt.figure(figsize = (20, 10))\n",
    "\n",
    "    # plain text\n",
    "    letters = list(num2letter.keys())\n",
    "    frequency = list(plain_text.values())\n",
    "    frequency.sort(reverse=True)\n",
    "    poly = np.polyfit(letters, frequency,5)\n",
    "    poly_y = np.poly1d(poly)(letters)\n",
    "    plt.plot(letters, poly_y)\n",
    "    plt.plot(letters, poly_y, '-r', label='plain text')\n",
    "\n",
    "    # playfair\n",
    "    frequency = list(playfair.values())\n",
    "    frequency.sort(reverse=True)\n",
    "    poly = np.polyfit(letters, frequency,5)\n",
    "    poly_y = np.poly1d(poly)(letters)\n",
    "    plt.plot(letters, poly_y)\n",
    "    plt.plot(letters, poly_y, '-g', label='playfair')\n",
    "\n",
    "    # vigenere\n",
    "    frequency = list(vigenere.values())\n",
    "    frequency.sort(reverse=True)\n",
    "    poly = np.polyfit(letters, frequency,5)\n",
    "    poly_y = np.poly1d(poly)(letters)\n",
    "    plt.plot(letters, poly_y, '-b', label='vigenere')\n",
    "    \n",
    "    plt.legend(loc=\"upper right\")\n",
    "    plt.xlabel('Frequency ranked letters (decreasing frequency)')\n",
    "    plt.ylabel(\"Normalized Relative Frequency\")\n",
    "    plt.title(\"Relative Frequency of Occurance of Letters\")\n",
    "\n",
    "    plt.show()"
   ]
  },
  {
   "cell_type": "markdown",
   "metadata": {},
   "source": [
    "## Test Functions"
   ]
  },
  {
   "cell_type": "markdown",
   "metadata": {},
   "source": [
    "### Test 1: Playfair Cypher   \n",
    "encrypt and decrypt using playfair cypher"
   ]
  },
  {
   "cell_type": "code",
   "execution_count": 13,
   "metadata": {},
   "outputs": [
    {
     "name": "stdout",
     "output_type": "stream",
     "text": [
      "-------- Playfair Encryption --------\n",
      "plain text: wearediscoveredsaveyourself\n",
      "cypher key: MAXFRESH\n",
      "cypher text: UHXMDNGHSTUSMCGESABUNVACCDRF\n",
      "-------- Playfair Decryption --------\n",
      "cypher text: UHXMDNGHSTUSMCGESABUNVACCDRF\n",
      "cypher key: MAXFRESH\n",
      "decrypted text: WEAREDISCOVEREDSAVEYOURSELF\n"
     ]
    }
   ],
   "source": [
    "plain_text = 'wearediscoveredsaveyourself'\n",
    "cypher_key = 'MAXFRESH'\n",
    "cypher_text = playfair_encryption(plain_text, cypher_key)\n",
    "print('-------- Playfair Encryption --------')\n",
    "print(f'plain text: {plain_text}\\ncypher key: {cypher_key}\\ncypher text: {cypher_text}')\n",
    "new_plain_text = playfair_decryption(cypher_text, cypher_key)\n",
    "print('-------- Playfair Decryption --------')\n",
    "print(f'cypher text: {cypher_text}\\ncypher key: {cypher_key}\\ndecrypted text: {new_plain_text}')"
   ]
  },
  {
   "cell_type": "markdown",
   "metadata": {},
   "source": [
    "## Test 2: Vigenere Cypher\n",
    "encrypt and decrypt using vigenere cypher"
   ]
  },
  {
   "cell_type": "code",
   "execution_count": 14,
   "metadata": {},
   "outputs": [
    {
     "name": "stdout",
     "output_type": "stream",
     "text": [
      "-------- Vigenere Encryption --------\n",
      "plain text: bringthebombtothefifthfloorwheniminposition\n",
      "cypher key: MAXFRESH\n",
      "cypher text: CFDPLOBSSQFENPPCBMKXPCRKPATAXIDUDXDPQPHGPLPO\n",
      "-------- Vigenere Decryption --------\n",
      "cypher text: CFDPLOBSSQFENPPCBMKXPCRKPATAXIDUDXDPQPHGPLPO\n",
      "cypher key: MAXFRESH\n",
      "decrypted text: BRINGTHEBOMBTOTHEFIFTHFLOORWHENIMINPOSITION\n"
     ]
    }
   ],
   "source": [
    "plain_text = 'bringthebombtothefifthfloorwheniminposition'\n",
    "cypher_key = 'MAXFRESH'\n",
    "cypher_text = playfair_encryption(plain_text, cypher_key)\n",
    "print('-------- Vigenere Encryption --------')\n",
    "print(f'plain text: {plain_text}\\ncypher key: {cypher_key}\\ncypher text: {cypher_text}')\n",
    "new_plain_text = playfair_decryption(cypher_text, cypher_key)\n",
    "print('-------- Vigenere Decryption --------')\n",
    "print(f'cypher text: {cypher_text}\\ncypher key: {cypher_key}\\ndecrypted text: {new_plain_text}')"
   ]
  },
  {
   "cell_type": "code",
   "execution_count": 15,
   "metadata": {},
   "outputs": [
    {
     "ename": "NameError",
     "evalue": "name 'g' is not defined",
     "output_type": "error",
     "traceback": [
      "\u001b[0;31m---------------------------------------------------------------------------\u001b[0m",
      "\u001b[0;31mNameError\u001b[0m                                 Traceback (most recent call last)",
      "\u001b[1;32m/home/fpatron/uprm/ciic/5018/CIIC-5018-projects/p2/project2.ipynb Cell 24\u001b[0m in \u001b[0;36m<cell line: 94>\u001b[0;34m()\u001b[0m\n\u001b[1;32m     <a href='vscode-notebook-cell://wsl%2Bubuntu/home/fpatron/uprm/ciic/5018/CIIC-5018-projects/p2/project2.ipynb#X32sdnNjb2RlLXJlbW90ZQ%3D%3D?line=90'>91</a>\u001b[0m vigenere_freq \u001b[39m=\u001b[39m get_letter_freq(vigenere_encripted_text)\n\u001b[1;32m     <a href='vscode-notebook-cell://wsl%2Bubuntu/home/fpatron/uprm/ciic/5018/CIIC-5018-projects/p2/project2.ipynb#X32sdnNjb2RlLXJlbW90ZQ%3D%3D?line=92'>93</a>\u001b[0m \u001b[39m# plot\u001b[39;00m\n\u001b[0;32m---> <a href='vscode-notebook-cell://wsl%2Bubuntu/home/fpatron/uprm/ciic/5018/CIIC-5018-projects/p2/project2.ipynb#X32sdnNjb2RlLXJlbW90ZQ%3D%3D?line=93'>94</a>\u001b[0m g\u001b[39m-\u001b[39menerate_plot(plain_text_freq, playfair_freq, vigenere_freq)\n",
      "\u001b[0;31mNameError\u001b[0m: name 'g' is not defined"
     ]
    }
   ],
   "source": [
    "word_doc = '''CIIC5018 / ICOM5018\n",
    "Network Security and Cryptography\n",
    "Project 2: Playfair Cipher and Vigenere Cipher\n",
    "Overview\n",
    "In this exercise, you will need to design and implement Playfair cipher and\n",
    "Vigenere cipher, and then compare the relative frequency of letters in the plaintext\n",
    "and cyphertext. The programming language is Python.\n",
    "Document requirements\n",
    "To work on the exercise, you will need to prepare three documents following the\n",
    "guidelines below.\n",
    "1. A design document\n",
    "a. Cover page\n",
    "i. It shall include the title of the document, your name, student\n",
    "ID, department and university information, etc.\n",
    "b. Table of content\n",
    "c. Section 1: The Playfair cipher (encryption and decryption)\n",
    "i. The input of encryption is a plaintext and a key\n",
    "1. The plaintext must be the output of the procedure\n",
    "described in section 1 of Project 1\n",
    "ii. The return of encryption is a ciphertext\n",
    "iii. The input of decryption is a cyphertext and a key\n",
    "iv. The return of decryption is a plaintext\n",
    "v. Explain your design to deal with the situation that two input\n",
    "letters are the same\n",
    "vi. Explain your design to deal with the situation that the last\n",
    "plaintext is a single letter\n",
    "d. Section 2: The Vigenere cipher (encryption and decryption)\n",
    "i. The input of encryption is a plaintext and a key\n",
    "1. The plaintext must be the output of the procedure\n",
    "described in section 1 of Project 1\n",
    "ii. The return of encryption is a ciphertext\n",
    "iii. The input of decryption is a cyphertext and a key\n",
    "iv. The return of decryption is a plaintext\n",
    "e. Section 3: The relative frequencies of letters in a string\n",
    "i. The input is a string that contains only capitalized English\n",
    "letters\n",
    "ii. The output is a sorted (decreasing order) array of relative\n",
    "frequencies of letters\n",
    "f. References\n",
    "i. Cite at least 5 references\n",
    "ii. The link to your YouTube video must be included here\n",
    "2. A Python program saved in a Jupyter notebook\n",
    "a. The following functions shall be implemented based on the pseudo\n",
    "codes in the design document:\n",
    "i. The Playfair encryption function.\n",
    "ii. The Playfair decryption function.\n",
    "iii. The Vigenere encryption function.\n",
    "iv. The Vigenere decryption function.\n",
    "v. The relative frequency function.\n",
    "vi. Some test functions.\n",
    "b. To verify your encryption and decryption functions, you must show\n",
    "that the plaintext can be accurately recovered after you used the\n",
    "same key to encrypt and decrypt\n",
    "c. To test the Playfair cipher, you shall use key “MAXFRESH”.\n",
    "d. To test the Vigenere cipher, you shall use repeated key\n",
    "“MAXFRESH”.\n",
    "e. To show the result of the relative frequency function. You must\n",
    "i. use all the text in this Word document as the input of the text\n",
    "processing procedure and generate the plaintext, then\n",
    "ii. encrypt the plaintext using the Playfair cipher to generate\n",
    "ciphertext 1, then\n",
    "iii. encrypt the plaintext using the Vigenere cipher to generate\n",
    "ciphertext 2, then\n",
    "iv. generate the relative frequencies for plaintext, ciphertext 1\n",
    "and ciphertext 2, and finally\n",
    "v. plot a figure to compare relative frequencies (similar to\n",
    "Figure 2.6 in the textbook).\n",
    "3. A YouTube video to walk through your code\n",
    "a. In the video, you shall go through Step 2.c to verify your encryption\n",
    "and decryption functions of the Playfair cipher.\n",
    "b. In the video, you shall go through Step 2.d to verify your encryption\n",
    "and decryption functions of the Vigenere cipher.\n",
    "c. In the video, you shall go through Step 2.e and show the figure of\n",
    "relative frequencies.\n",
    "d. Upload the video to YouTube, set the video as private, then share it\n",
    "to me (Kejie.lu@upr.edu)\n",
    "Submission\n",
    "Submit a single zip file that includes:\n",
    "1. the design document\n",
    "2. the Jupyter notebook\n",
    "Evaluation\n",
    "1. Rubrics are used in the evaluation.\n",
    "2. You must carefully review all rubrics before preparing for the documents.'''\n",
    "\n",
    "playfair_encripted_text = playfair_encryption(word_doc, cypher_key='MAXFRESH')\n",
    "vigenere_encripted_text = vigenere_encryption(word_doc, cypher_key='MAXFRESH')\n",
    "\n",
    "# calcultate frequencies\n",
    "plain_text_freq = get_letter_freq(word_doc)\n",
    "playfair_freq = get_letter_freq(playfair_encripted_text)\n",
    "vigenere_freq = get_letter_freq(vigenere_encripted_text)\n",
    "\n",
    "# plot\n",
    "generate_plot(plain_text_freq, playfair_freq, vigenere_freq)"
   ]
  }
 ],
 "metadata": {
  "kernelspec": {
   "display_name": "Python 3.8.10 64-bit",
   "language": "python",
   "name": "python3"
  },
  "language_info": {
   "codemirror_mode": {
    "name": "ipython",
    "version": 3
   },
   "file_extension": ".py",
   "mimetype": "text/x-python",
   "name": "python",
   "nbconvert_exporter": "python",
   "pygments_lexer": "ipython3",
   "version": "3.8.10"
  },
  "orig_nbformat": 4,
  "vscode": {
   "interpreter": {
    "hash": "e7370f93d1d0cde622a1f8e1c04877d8463912d04d973331ad4851f04de6915a"
   }
  }
 },
 "nbformat": 4,
 "nbformat_minor": 2
}
